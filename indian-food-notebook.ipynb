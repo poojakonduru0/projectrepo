{
 "cells": [
  {
   "cell_type": "code",
   "execution_count": 0,
   "metadata": {
    "application/vnd.databricks.v1+cell": {
     "cellMetadata": {
      "byteLimit": 2048000,
      "rowLimit": 10000
     },
     "inputWidgets": {},
     "nuid": "7dd01625-bbeb-4325-a259-1f5e61e99bfb",
     "showTitle": false,
     "title": ""
    }
   },
   "outputs": [
    {
     "output_type": "display_data",
     "data": {
      "text/html": [
       "<div class = \"ansiout\">\n",
       "Provides utilities for leveraging secrets within notebooks.\n",
       "Databricks documentation for more info.\n",
       "    <h3></h3><b>get(scope: String, key: String): String</b> -> Gets the string representation of a secret value with scope and key<br /><b>getBytes(scope: String, key: String): byte[]</b> -> Gets the bytes representation of a secret value with scope and key<br /><b>list(scope: String): Seq</b> -> Lists secret metadata for secrets within a scope<br /><b>listScopes: Seq</b> -> Lists secret scopes<br /><br /></div>"
      ]
     },
     "metadata": {},
     "output_type": "display_data"
    },
    {
     "output_type": "execute_result",
     "data": {
      "text/plain": [
       "[SecretScope(name='demoscope')]"
      ]
     },
     "execution_count": 1,
     "metadata": {},
     "output_type": "execute_result"
    }
   ],
   "source": [
    "\n",
    "dbutils.secrets.help()\n",
    "dbutils.secrets.listScopes()"
   ]
  },
  {
   "cell_type": "code",
   "execution_count": 0,
   "metadata": {
    "application/vnd.databricks.v1+cell": {
     "cellMetadata": {
      "byteLimit": 2048000,
      "rowLimit": 10000
     },
     "inputWidgets": {},
     "nuid": "28ec5417-d0d0-477d-b482-0e531045af37",
     "showTitle": false,
     "title": ""
    }
   },
   "outputs": [],
   "source": [
    "SecretID=dbutils.secrets.get(scope='demoscope',key='SecretID')\n",
    "ClientID=dbutils.secrets.get(scope='demoscope',key='ClientID')\n",
    "TenantID=dbutils.secrets.get(scope='demoscope',key='TenantID')\n",
    "\n",
    "spark.conf.set(\"fs.azure.account.auth.type.indianfoodadls.dfs.core.windows.net\", \"OAuth\")\n",
    "spark.conf.set(\"fs.azure.account.oauth.provider.type.indianfoodadls.dfs.core.windows.net\", \"org.apache.hadoop.fs.azurebfs.oauth2.ClientCredsTokenProvider\")\n",
    "spark.conf.set(\"fs.azure.account.oauth2.client.id.indianfoodadls.dfs.core.windows.net\",ClientID )\n",
    "spark.conf.set(\"fs.azure.account.oauth2.client.secret.indianfoodadls.dfs.core.windows.net\", SecretID)\n",
    "spark.conf.set(\"fs.azure.account.oauth2.client.endpoint.indianfoodadls.dfs.core.windows.net\", f\"https://login.microsoftonline.com/{TenantID}/oauth2/token\")"
   ]
  },
  {
   "cell_type": "code",
   "execution_count": 0,
   "metadata": {
    "application/vnd.databricks.v1+cell": {
     "cellMetadata": {
      "byteLimit": 2048000,
      "rowLimit": 10000
     },
     "inputWidgets": {},
     "nuid": "1bfe68a8-8fa2-4ae5-8e52-4f95ecc9f68e",
     "showTitle": false,
     "title": ""
    }
   },
   "outputs": [
    {
     "output_type": "stream",
     "name": "stdout",
     "output_type": "stream",
     "text": [
      "+--------------+--------------------+----------+---------+---------+--------------+-------+-------------+------+\n|          name|         ingredients|      diet|prep_time|cook_time|flavor_profile| course|        state|region|\n+--------------+--------------------+----------+---------+---------+--------------+-------+-------------+------+\n|    Balu shahi|Maida flour, yogu...|vegetarian|       45|       25|         sweet|dessert|  West Bengal|  East|\n|        Boondi|Gram flour, ghee,...|vegetarian|       80|       30|         sweet|dessert|    Rajasthan|  West|\n|Gajar ka halwa|Carrots, milk, su...|vegetarian|       15|       60|         sweet|dessert|       Punjab| North|\n|        Ghevar|Flour, ghee, kewr...|vegetarian|       15|       30|         sweet|dessert|    Rajasthan|  West|\n|   Gulab jamun|Milk powder, plai...|vegetarian|       15|       40|         sweet|dessert|  West Bengal|  East|\n|        Imarti|Sugar syrup, lent...|vegetarian|       10|       50|         sweet|dessert|  West Bengal|  East|\n|        Jalebi|Maida, corn flour...|vegetarian|       10|       50|         sweet|dessert|Uttar Pradesh| North|\n|    Kaju katli|Cashews, ghee, ca...|vegetarian|       10|       20|         sweet|dessert|           -1|    -1|\n|      Kalakand|Milk, cottage che...|vegetarian|       20|       30|         sweet|dessert|  West Bengal|  East|\n|         Kheer|Milk, rice, sugar...|vegetarian|       10|       40|         sweet|dessert|           -1|    -1|\n|         Laddu|Gram flour, ghee,...|vegetarian|       10|       40|         sweet|dessert|           -1|    -1|\n|         Lassi|Yogurt, milk, nut...|vegetarian|        5|        5|         sweet|dessert|       Punjab| North|\n|     Nankhatai|Refined flour, be...|vegetarian|       20|       30|         sweet|dessert|           -1|    -1|\n|         Petha|Firm white pumpki...|vegetarian|       10|       30|         sweet|dessert|Uttar Pradesh| North|\n|        Phirni|   Rice, sugar, nuts|vegetarian|       30|       20|         sweet|dessert|       Odisha|  East|\n|         Rabri|Condensed milk, s...|vegetarian|       10|       45|         sweet|dessert|Uttar Pradesh| North|\n|        Sheera|Semolina, ghee, n...|vegetarian|       10|       25|         sweet|dessert|  Maharashtra|  West|\n|       Singori|Khoa, coconut, mo...|vegetarian|       10|       20|         sweet|dessert|  Uttarakhand| North|\n|   Sohan halwa|Corn flour, ghee,...|vegetarian|       10|       60|         sweet|dessert|Uttar Pradesh| North|\n|   Sohan papdi|Gram flour, ghee,...|vegetarian|       -1|       60|         sweet|dessert|  Maharashtra|  West|\n+--------------+--------------------+----------+---------+---------+--------------+-------+-------------+------+\nonly showing top 20 rows\n\n"
     ]
    }
   ],
   "source": [
    "from pyspark.sql import SparkSession\n",
    "from pyspark.sql.functions import *\n",
    "\n",
    "\n",
    "spark = SparkSession.builder.appName(\"ReadData\").getOrCreate()\n",
    "\n",
    "# Sample code to load data\n",
    "\n",
    "df = spark.read.csv(\"abfss://raw@indianfoodadls.dfs.core.windows.net/indian_food.csv\", header=True, inferSchema=True)\n",
    "df.show()"
   ]
  },
  {
   "cell_type": "code",
   "execution_count": 0,
   "metadata": {
    "application/vnd.databricks.v1+cell": {
     "cellMetadata": {
      "byteLimit": 2048000,
      "rowLimit": 10000
     },
     "inputWidgets": {},
     "nuid": "a726e646-86ec-4fbb-b936-9197f30fbee4",
     "showTitle": false,
     "title": ""
    }
   },
   "outputs": [
    {
     "output_type": "stream",
     "name": "stdout",
     "output_type": "stream",
     "text": [
      "+--------------+--------------------+----------+---------+---------+--------------+-------+-------------+------+\n|          Name|         Ingredients|      Diet|Prep_Time|Cook_Time|Flavor_Profile| Course|        State|Region|\n+--------------+--------------------+----------+---------+---------+--------------+-------+-------------+------+\n|    Balu shahi|Maida flour, yogu...|vegetarian|       45|       25|         sweet|dessert|  West Bengal|  East|\n|        Boondi|Gram flour, ghee,...|vegetarian|       80|       30|         sweet|dessert|    Rajasthan|  West|\n|Gajar ka halwa|Carrots, milk, su...|vegetarian|       15|       60|         sweet|dessert|       Punjab| North|\n|        Ghevar|Flour, ghee, kewr...|vegetarian|       15|       30|         sweet|dessert|    Rajasthan|  West|\n|   Gulab jamun|Milk powder, plai...|vegetarian|       15|       40|         sweet|dessert|  West Bengal|  East|\n|        Imarti|Sugar syrup, lent...|vegetarian|       10|       50|         sweet|dessert|  West Bengal|  East|\n|        Jalebi|Maida, corn flour...|vegetarian|       10|       50|         sweet|dessert|Uttar Pradesh| North|\n|    Kaju katli|Cashews, ghee, ca...|vegetarian|       10|       20|         sweet|dessert|           -1|    -1|\n|      Kalakand|Milk, cottage che...|vegetarian|       20|       30|         sweet|dessert|  West Bengal|  East|\n|         Kheer|Milk, rice, sugar...|vegetarian|       10|       40|         sweet|dessert|           -1|    -1|\n|         Laddu|Gram flour, ghee,...|vegetarian|       10|       40|         sweet|dessert|           -1|    -1|\n|         Lassi|Yogurt, milk, nut...|vegetarian|        5|        5|         sweet|dessert|       Punjab| North|\n|     Nankhatai|Refined flour, be...|vegetarian|       20|       30|         sweet|dessert|           -1|    -1|\n|         Petha|Firm white pumpki...|vegetarian|       10|       30|         sweet|dessert|Uttar Pradesh| North|\n|        Phirni|   Rice, sugar, nuts|vegetarian|       30|       20|         sweet|dessert|       Odisha|  East|\n|         Rabri|Condensed milk, s...|vegetarian|       10|       45|         sweet|dessert|Uttar Pradesh| North|\n|        Sheera|Semolina, ghee, n...|vegetarian|       10|       25|         sweet|dessert|  Maharashtra|  West|\n|       Singori|Khoa, coconut, mo...|vegetarian|       10|       20|         sweet|dessert|  Uttarakhand| North|\n|   Sohan halwa|Corn flour, ghee,...|vegetarian|       10|       60|         sweet|dessert|Uttar Pradesh| North|\n|   Sohan papdi|Gram flour, ghee,...|vegetarian|       -1|       60|         sweet|dessert|  Maharashtra|  West|\n+--------------+--------------------+----------+---------+---------+--------------+-------+-------------+------+\nonly showing top 20 rows\n\n"
     ]
    }
   ],
   "source": [
    "#Renaming the column names\n",
    "result = df.withColumnRenamed(\"age\", \"Age\") \\\n",
    "    .withColumnRenamed(\"name\", \"Name\") \\\n",
    "    .withColumnRenamed(\"ingredients\", \"Ingredients\") \\\n",
    "    .withColumnRenamed(\"diet\", \"Diet\") \\\n",
    "    .withColumnRenamed(\"prep_time\", \"Prep_Time\") \\\n",
    "    .withColumnRenamed(\"cook_time\", \"Cook_Time\") \\\n",
    "    .withColumnRenamed(\"flavor_profile\", \"Flavor_Profile\")\\\n",
    "    .withColumnRenamed(\"course\", \"Course\")\\\n",
    "    .withColumnRenamed(\"state\", \"State\")\\\n",
    "    .withColumnRenamed(\"region\", \"Region\")\n",
    "\n",
    "result.show()"
   ]
  },
  {
   "cell_type": "code",
   "execution_count": 0,
   "metadata": {
    "application/vnd.databricks.v1+cell": {
     "cellMetadata": {
      "byteLimit": 2048000,
      "rowLimit": 10000
     },
     "inputWidgets": {},
     "nuid": "6cd8967d-a768-43f4-a972-79acb1910159",
     "showTitle": false,
     "title": ""
    }
   },
   "outputs": [
    {
     "output_type": "stream",
     "name": "stdout",
     "output_type": "stream",
     "text": [
      "root\n |-- Name: string (nullable = true)\n |-- Ingredients: string (nullable = true)\n |-- Diet: string (nullable = true)\n |-- Prep_Time: integer (nullable = true)\n |-- Cook_Time: integer (nullable = true)\n |-- Flavor_Profile: string (nullable = true)\n |-- Course: string (nullable = true)\n |-- State: string (nullable = true)\n |-- Region: string (nullable = true)\n\n"
     ]
    }
   ],
   "source": [
    "result.printSchema()"
   ]
  },
  {
   "cell_type": "code",
   "execution_count": 0,
   "metadata": {
    "application/vnd.databricks.v1+cell": {
     "cellMetadata": {
      "byteLimit": 2048000,
      "rowLimit": 10000
     },
     "inputWidgets": {},
     "nuid": "481257fa-dc3e-4bcb-ac06-220161b954c4",
     "showTitle": false,
     "title": ""
    }
   },
   "outputs": [
    {
     "output_type": "stream",
     "name": "stdout",
     "output_type": "stream",
     "text": [
      "+--------------------+--------------------+--------------+---------+---------+--------------+-----------+------------+----------+\n|                Name|         Ingredients|          Diet|Prep_Time|Cook_Time|Flavor_Profile|     Course|       State|    Region|\n+--------------------+--------------------+--------------+---------+---------+--------------+-----------+------------+----------+\n|               Kheer|Milk, rice, sugar...|    vegetarian|       10|       40|         sweet|    dessert|          -1|        -1|\n|               Puttu|Brown rice flour,...|    vegetarian|      495|       40|            -1|main course|      Kerala|     South|\n|      Gajar ka halwa|Carrots, milk, su...|    vegetarian|       15|       60|         sweet|    dessert|      Punjab|     North|\n|          Thalipeeth|Whole wheat flour...|    vegetarian|       25|       30|         spicy|main course| Maharashtra|      West|\n|          Farsi Puri|Semolina, clarifi...|    vegetarian|       -1|       -1|            -1|      snack|     Gujarat|      West|\n|         Masor tenga|Ridge gourd, fish...|non vegetarian|       15|       25|         spicy|main course|       Assam|North East|\n|     Kuzhi paniyaram| Black lentils, rice|    vegetarian|       10|       20|         sweet|    dessert|      Kerala|     South|\n|      Butter chicken|Chicken, greek yo...|non vegetarian|       10|       35|         spicy|main course|NCT of Delhi|     North|\n|              Pattor|Arbi ke patte, se...|    vegetarian|       10|       30|         spicy|main course|   Rajasthan|      West|\n|         Keri no ras|        Mango, sugar|    vegetarian|       10|       10|          sour|main course|     Gujarat|      West|\n|             Papadum|Lentils, black pe...|    vegetarian|        5|        5|         spicy|      snack|      Kerala|     South|\n|              Chevdo|Citric acid, fry,...|    vegetarian|       20|       30|         spicy|      snack|     Gujarat|      West|\n|  Vegetable jalfrezi|Baby corn, french...|    vegetarian|       10|       30|         spicy|main course|      Punjab|     North|\n| Tandoori Fish Tikka|Chickpea flour, b...|non vegetarian|      240|       30|         spicy|    starter|      Punjab|     North|\n|       Chingri Bhape|Coconut, prawns, ...|non vegetarian|       15|       30|            -1|main course| West Bengal|      East|\n|           Dal tadka|Pigeon peas, gara...|    vegetarian|       10|       30|         spicy|main course|      Punjab|     North|\n|Paneer butter masala|Paneer, whipping ...|    vegetarian|       20|       40|         spicy|main course|      Punjab|     North|\n|      Keerai poriyal|Amaranth leaves, ...|    vegetarian|       20|       30|         spicy|main course|  Tamil Nadu|     South|\n|             Uttapam|Chana dal, urad d...|    vegetarian|       10|       20|         spicy|      snack|          -1|     South|\n|           Ras malai|Chhena, reduced m...|    vegetarian|      180|       60|         sweet|    dessert| West Bengal|      East|\n+--------------------+--------------------+--------------+---------+---------+--------------+-----------+------------+----------+\nonly showing top 20 rows\n\n"
     ]
    }
   ],
   "source": [
    "#Dropping the duplicates\n",
    "\n",
    "result = result.dropDuplicates()\n",
    "result.show()"
   ]
  },
  {
   "cell_type": "code",
   "execution_count": 0,
   "metadata": {
    "application/vnd.databricks.v1+cell": {
     "cellMetadata": {
      "byteLimit": 2048000,
      "rowLimit": 10000
     },
     "inputWidgets": {},
     "nuid": "62566b13-398d-43df-b3f7-1e98fc8de0b5",
     "showTitle": false,
     "title": ""
    }
   },
   "outputs": [
    {
     "output_type": "stream",
     "name": "stdout",
     "output_type": "stream",
     "text": [
      "+--------------+--------------------+----------+---------+---------+--------------+-----------+-----------+------+----------+\n|          Name|         Ingredients|      Diet|Prep_Time|Cook_Time|Flavor_Profile|     Course|      State|Region|Total_time|\n+--------------+--------------------+----------+---------+---------+--------------+-----------+-----------+------+----------+\n|         Kheer|Milk, rice, sugar...|vegetarian|       10|       40|         sweet|    dessert|         -1|    -1|        50|\n|         Puttu|Brown rice flour,...|vegetarian|      495|       40|            -1|main course|     Kerala| South|       535|\n|Gajar ka halwa|Carrots, milk, su...|vegetarian|       15|       60|         sweet|    dessert|     Punjab| North|        75|\n|    Thalipeeth|Whole wheat flour...|vegetarian|       25|       30|         spicy|main course|Maharashtra|  West|        55|\n|    Farsi Puri|Semolina, clarifi...|vegetarian|       -1|       -1|            -1|      snack|    Gujarat|  West|        -2|\n+--------------+--------------------+----------+---------+---------+--------------+-----------+-----------+------+----------+\nonly showing top 5 rows\n\n"
     ]
    }
   ],
   "source": [
    "# Adding a new column that calculates the total time required to prepare a dish.\n",
    "\n",
    "result = result.withColumn(\"Total_time\", col(\"Prep_time\") + col(\"Cook_time\"))\n",
    "result.show(5)"
   ]
  },
  {
   "cell_type": "code",
   "execution_count": 0,
   "metadata": {
    "application/vnd.databricks.v1+cell": {
     "cellMetadata": {
      "byteLimit": 2048000,
      "rowLimit": 10000
     },
     "inputWidgets": {},
     "nuid": "86e5e9ea-33cb-4003-b396-badfd6a465da",
     "showTitle": false,
     "title": ""
    }
   },
   "outputs": [
    {
     "output_type": "stream",
     "name": "stdout",
     "output_type": "stream",
     "text": [
      "+---------------+------------------+------------------+\n|          state|     Avg_Prep_Time|     Avg_Cook_Time|\n+---------------+------------------+------------------+\n|       Nagaland|               5.0|              15.0|\n|      Karnataka|60.833333333333336|44.166666666666664|\n|             -1|63.083333333333336|35.041666666666664|\n|         Odisha|12.571428571428571|37.714285714285715|\n|         Kerala|             71.75|             29.25|\n|     Tamil Nadu|             14.35|             22.85|\n|   Chhattisgarh|              10.0|              60.0|\n| Andhra Pradesh|              61.0|              37.5|\n| Madhya Pradesh|              15.0|              42.5|\n|         Punjab|             48.75|          37.34375|\n|        Manipur|             119.5|              22.0|\n|Jammu & Kashmir|               9.5|              24.5|\n|            Goa| 9.666666666666666|              33.0|\n|        Haryana|              10.0|              60.0|\n|        Gujarat|13.742857142857142|26.485714285714284|\n|      Rajasthan|22.833333333333332|              40.0|\n|          Assam| 5.714285714285714|14.285714285714286|\n|   NCT of Delhi|              10.0|              35.0|\n|    Maharashtra|              15.4|              51.1|\n|    West Bengal|            45.125|37.416666666666664|\n+---------------+------------------+------------------+\nonly showing top 20 rows\n\n"
     ]
    }
   ],
   "source": [
    "# Grouping the data by Region and calculate the average preparation and cooking time.\n",
    "\n",
    "region_time_df = result.groupBy(\"state\").agg(\n",
    "    avg(\"Prep_time\").alias(\"Avg_Prep_Time\"),\n",
    "    avg(\"Cook_time\").alias(\"Avg_Cook_Time\")\n",
    ")\n",
    "\n",
    "region_time_df.show()"
   ]
  },
  {
   "cell_type": "code",
   "execution_count": 0,
   "metadata": {
    "application/vnd.databricks.v1+cell": {
     "cellMetadata": {
      "byteLimit": 2048000,
      "rowLimit": 10000
     },
     "inputWidgets": {},
     "nuid": "46b4d957-a16c-4fc9-965f-e46ec98c8e75",
     "showTitle": false,
     "title": ""
    }
   },
   "outputs": [
    {
     "output_type": "stream",
     "name": "stdout",
     "output_type": "stream",
     "text": [
      "+--------------------+--------------------+--------------+---------+---------+--------------+-----------+---------------+----------+----------+\n|                Name|         Ingredients|          Diet|Prep_Time|Cook_Time|Flavor_Profile|     Course|          State|    Region|Total_time|\n+--------------------+--------------------+--------------+---------+---------+--------------+-----------+---------------+----------+----------+\n|               Kheer|Milk, rice, sugar...|    vegetarian|       10|       40|         sweet|    dessert|             -1|        -1|        50|\n|               Puttu|Brown rice flour,...|    vegetarian|      495|       40|            -1|main course|         Kerala|     South|       535|\n|      Gajar ka halwa|Carrots, milk, su...|    vegetarian|       15|       60|         sweet|    dessert|         Punjab|     North|        75|\n|          Thalipeeth|Whole wheat flour...|    vegetarian|       25|       30|         spicy|main course|    Maharashtra|      West|        55|\n|          Farsi Puri|Semolina, clarifi...|    vegetarian|       -1|       -1|            -1|      snack|        Gujarat|      West|        -2|\n|         Masor tenga|Ridge gourd, fish...|non vegetarian|       15|       25|         spicy|main course|          Assam|North East|        40|\n|     Kuzhi paniyaram| Black lentils, rice|    vegetarian|       10|       20|         sweet|    dessert|         Kerala|     South|        30|\n|      Butter chicken|Chicken, greek yo...|non vegetarian|       10|       35|         spicy|main course|   NCT of Delhi|     North|        45|\n|              Pattor|Arbi ke patte, se...|    vegetarian|       10|       30|         spicy|main course|      Rajasthan|      West|        40|\n|         Keri no ras|        Mango, sugar|    vegetarian|       10|       10|          sour|main course|        Gujarat|      West|        20|\n|             Papadum|Lentils, black pe...|    vegetarian|        5|        5|         spicy|      snack|         Kerala|     South|        10|\n|              Chevdo|Citric acid, fry,...|    vegetarian|       20|       30|         spicy|      snack|        Gujarat|      West|        50|\n|  Vegetable jalfrezi|Baby corn, french...|    vegetarian|       10|       30|         spicy|main course|         Punjab|     North|        40|\n| Tandoori Fish Tikka|Chickpea flour, b...|non vegetarian|      240|       30|         spicy|    starter|         Punjab|     North|       270|\n|       Chingri Bhape|Coconut, prawns, ...|non vegetarian|       15|       30|            -1|main course|    West Bengal|      East|        45|\n|           Dal tadka|Pigeon peas, gara...|    vegetarian|       10|       30|         spicy|main course|         Punjab|     North|        40|\n|Paneer butter masala|Paneer, whipping ...|    vegetarian|       20|       40|         spicy|main course|         Punjab|     North|        60|\n|      Keerai poriyal|Amaranth leaves, ...|    vegetarian|       20|       30|         spicy|main course|     Tamil Nadu|     South|        50|\n|             Uttapam|Chana dal, urad d...|    vegetarian|       10|       20|         spicy|      snack|             -1|     South|        30|\n|           Ras malai|Chhena, reduced m...|    vegetarian|      180|       60|         sweet|    dessert|    West Bengal|      East|       240|\n|   Daal baati churma|Moong dal, masoor...|    vegetarian|       10|       90|         spicy|main course|      Rajasthan|      West|       100|\n|         Kolim Jawla|Baingan, fish, co...|non vegetarian|       -1|       -1|         spicy|main course|    Maharashtra|      West|        -2|\n|           Pav Bhaji|Pav bhaji masala,...|    vegetarian|       20|       40|         spicy|main course|    Maharashtra|      West|        60|\n|       Lilva Kachori|Green garlic chut...|    vegetarian|       30|        6|         spicy|      snack|        Gujarat|      West|        36|\n|      Chak Hao Kheer|Rice, milk, sugar...|    vegetarian|      240|       45|         sweet|    dessert|        Manipur|North East|       285|\n|            Dum aloo|Baby potatoes, ga...|    vegetarian|       20|       50|         spicy|main course|Jammu & Kashmir|     North|        70|\n|                Amti|Kala masala, arha...|    vegetarian|       10|       45|         spicy|main course|    Maharashtra|      West|        55|\n|            Haq Maas|Lamb, garam masal...|non vegetarian|       20|       40|         spicy|main course|          Assam|North East|        60|\n|              Payokh|Basmati rice, ros...|    vegetarian|       -1|       -1|         sweet|    dessert|          Assam|North East|        -2|\n|          Jeera Aloo|Green chilies, le...|    vegetarian|       10|       30|         spicy|main course|        Gujarat|      West|        40|\n|            Vindaloo|Chicken, coconut ...|non vegetarian|       10|       40|         spicy|main course|            Goa|      West|        50|\n|               Avial|Raw banana, eleph...|    vegetarian|       30|       45|         spicy|main course|         Kerala|     South|        75|\n|       Kutchi dabeli|Pav, aloo, peanut...|    vegetarian|       30|       10|         spicy|      snack|        Gujarat|      West|        40|\n|            Doodhpak|Milk, rice, sugar...|    vegetarian|       10|       60|         sweet|    dessert|        Gujarat|      West|        70|\n|               Rasam|Tomato, curry lea...|    vegetarian|       10|       35|         spicy|main course|             -1|     South|        45|\n|           Adhirasam|Rice flour, jagge...|    vegetarian|       10|       50|         sweet|    dessert|    West Bengal|      East|        60|\n|          Aloo methi|Potato, fenugreek...|    vegetarian|       10|       40|        bitter|main course|         Punjab|     North|        50|\n|          Paravannam|Raw rice,  jagger...|    vegetarian|       -1|       -1|         spicy|main course|         Kerala|     South|        -2|\n|   Prawn malai curry|Coconut milk, pra...|non vegetarian|       15|       50|         spicy|main course|    West Bengal|      East|        65|\n|                Fara|Chana dal, whole ...|    vegetarian|       10|       60|         spicy|      snack|   Chhattisgarh|   Central|        70|\n|           Mawa Bati|Milk powder, dry ...|    vegetarian|       20|       45|         sweet|    dessert| Madhya Pradesh|   Central|        65|\n|    Qubani ka meetha|Apricots, sugar s...|    vegetarian|       10|       20|         sweet|    dessert|      Telangana|     South|        30|\n|           Koshambri|Moong dal, cucumb...|    vegetarian|       10|       20|         spicy|main course|      Karnataka|     South|        30|\n|            Mihidana|Besan flour, suga...|    vegetarian|       15|       30|         sweet|    dessert|    West Bengal|      East|        45|\n|             Kachori|Moong dal, rava, ...|    vegetarian|       30|       60|         spicy|      snack|  Uttar Pradesh|     North|        90|\n|              Khichu|Rice flour, sesam...|    vegetarian|        5|       10|         spicy|      snack|        Gujarat|      West|        15|\n|               Petha|Firm white pumpki...|    vegetarian|       10|       30|         sweet|    dessert|  Uttar Pradesh|     North|        40|\n|        Rajma chaval|Red kidney beans,...|    vegetarian|       15|       90|         spicy|main course|             -1|     North|       105|\n|               Luchi|Maida, vegetable oil|    vegetarian|       20|       30|            -1|main course|    West Bengal|      East|        50|\n|          Pani Pitha|Tea leaves, white...|    vegetarian|       10|       20|            -1|main course|          Assam|North East|        30|\n+--------------------+--------------------+--------------+---------+---------+--------------+-----------+---------------+----------+----------+\nonly showing top 50 rows\n\n"
     ]
    }
   ],
   "source": [
    "\n",
    "result = result.fillna({\"flavor_profile\": \"Unknown\", \"State\": \"Unknown\"})\n",
    "result.show(50)"
   ]
  },
  {
   "cell_type": "code",
   "execution_count": 0,
   "metadata": {
    "application/vnd.databricks.v1+cell": {
     "cellMetadata": {
      "byteLimit": 2048000,
      "rowLimit": 10000
     },
     "inputWidgets": {},
     "nuid": "2d49e4a9-9d96-4c1f-a36e-cbb13748e892",
     "showTitle": false,
     "title": ""
    }
   },
   "outputs": [
    {
     "output_type": "stream",
     "name": "stdout",
     "output_type": "stream",
     "text": [
      "+-----------+--------------------+----------+---------+---------+--------------+-----------+-----------+------+----------+\n|       Name|         Ingredients|      Diet|Prep_Time|Cook_Time|Flavor_Profile|     Course|      State|Region|Total_time|\n+-----------+--------------------+----------+---------+---------+--------------+-----------+-----------+------+----------+\n|  Shrikhand|Curd, sugar, saff...|vegetarian|       10|      720|         sweet|    dessert|Maharashtra|  West|       730|\n|Pindi chana|Fennel, tea bags,...|vegetarian|      500|      120|         spicy|main course|     Punjab| North|       620|\n|      Puttu|Brown rice flour,...|vegetarian|      495|       40|            -1|main course|     Kerala| South|       535|\n|  Misti doi|       Milk, jaggery|vegetarian|      480|       30|         sweet|    dessert|West Bengal|  East|       510|\n|       Dosa|Chana dal, urad d...|vegetarian|      360|       90|         spicy|      snack|         -1| South|       450|\n|Masala Dosa|Chana dal, urad d...|vegetarian|      360|       90|         spicy|      snack|         -1| South|       450|\n|       Idli|Split urad dal, u...|vegetarian|      360|       90|         spicy|      snack|         -1| South|       450|\n+-----------+--------------------+----------+---------+---------+--------------+-----------+-----------+------+----------+\nonly showing top 7 rows\n\n"
     ]
    }
   ],
   "source": [
    "# Sort the data by total preparation time\n",
    "\n",
    "result = result.orderBy(\"Total_time\", ascending=False)\n",
    "result.show(7)"
   ]
  },
  {
   "cell_type": "code",
   "execution_count": 0,
   "metadata": {
    "application/vnd.databricks.v1+cell": {
     "cellMetadata": {
      "byteLimit": 2048000,
      "rowLimit": 10000
     },
     "inputWidgets": {},
     "nuid": "bc0ee5e1-791a-42df-a88c-aa803e69b0aa",
     "showTitle": false,
     "title": ""
    }
   },
   "outputs": [
    {
     "output_type": "stream",
     "name": "stdout",
     "output_type": "stream",
     "text": [
      "+----------+-------+-----------+-----+-------+\n|    Region|dessert|main course|snack|starter|\n+----------+-------+-----------+-----+-------+\n|        -1|      5|          4|    4|   NULL|\n|      NULL|      1|       NULL| NULL|   NULL|\n|     South|     18|         31|   10|   NULL|\n|   Central|      1|          1|    1|   NULL|\n|      East|     21|         10| NULL|   NULL|\n|      West|     23|         28|   23|   NULL|\n|North East|      7|         18| NULL|   NULL|\n|     North|      9|         37|    1|      2|\n+----------+-------+-----------+-----+-------+\n\n"
     ]
    }
   ],
   "source": [
    "# Pivot the data to show the number of dishes per course for each region\n",
    "pivot_df = result.groupBy(\"Region\").pivot(\"Course\").count()\n",
    "pivot_df.show()"
   ]
  },
  {
   "cell_type": "code",
   "execution_count": 0,
   "metadata": {
    "application/vnd.databricks.v1+cell": {
     "cellMetadata": {
      "byteLimit": 2048000,
      "rowLimit": 10000
     },
     "inputWidgets": {},
     "nuid": "bce6e9b7-31c5-409c-94d4-f9a7aca0979c",
     "showTitle": false,
     "title": ""
    }
   },
   "outputs": [
    {
     "output_type": "display_data",
     "data": {
      "text/plain": [
       "\u001B[0;31m---------------------------------------------------------------------------\u001B[0m\n",
       "\u001B[0;31mNameError\u001B[0m                                 Traceback (most recent call last)\n",
       "File \u001B[0;32m<command-2380092116466689>, line 1\u001B[0m\n",
       "\u001B[0;32m----> 1\u001B[0m pivot_df\u001B[38;5;241m.\u001B[39mrepartition(\u001B[38;5;241m1\u001B[39m)\u001B[38;5;241m.\u001B[39mwrite\u001B[38;5;241m.\u001B[39mmode(\u001B[38;5;124m\"\u001B[39m\u001B[38;5;124moverwrite\u001B[39m\u001B[38;5;124m\"\u001B[39m)\u001B[38;5;241m.\u001B[39moption(\u001B[38;5;124m\"\u001B[39m\u001B[38;5;124mheader\u001B[39m\u001B[38;5;124m\"\u001B[39m,\u001B[38;5;124m\"\u001B[39m\u001B[38;5;124mtrue\u001B[39m\u001B[38;5;124m\"\u001B[39m)\u001B[38;5;241m.\u001B[39mcsv(\u001B[38;5;124m\"\u001B[39m\u001B[38;5;124mabfss://processed@indianfoodadls.dfs.core.windows.net/pivot_transformed\u001B[39m\u001B[38;5;124m\"\u001B[39m)\n",
       "\u001B[1;32m      2\u001B[0m result\u001B[38;5;241m.\u001B[39mrepartition(\u001B[38;5;241m1\u001B[39m)\u001B[38;5;241m.\u001B[39mwrite\u001B[38;5;241m.\u001B[39mmode(\u001B[38;5;124m\"\u001B[39m\u001B[38;5;124moverwrite\u001B[39m\u001B[38;5;124m\"\u001B[39m)\u001B[38;5;241m.\u001B[39moption(\u001B[38;5;124m\"\u001B[39m\u001B[38;5;124mheader\u001B[39m\u001B[38;5;124m\"\u001B[39m,\u001B[38;5;124m\"\u001B[39m\u001B[38;5;124mtrue\u001B[39m\u001B[38;5;124m\"\u001B[39m)\u001B[38;5;241m.\u001B[39mcsv(\u001B[38;5;124m\"\u001B[39m\u001B[38;5;124mabfss://processed@indianfoodadls.dfs.core.windows.net/result\u001B[39m\u001B[38;5;124m\"\u001B[39m)\n",
       "\u001B[1;32m      3\u001B[0m region_time_df\u001B[38;5;241m.\u001B[39mrepartition(\u001B[38;5;241m1\u001B[39m)\u001B[38;5;241m.\u001B[39mwrite\u001B[38;5;241m.\u001B[39mmode(\u001B[38;5;124m\"\u001B[39m\u001B[38;5;124moverwrite\u001B[39m\u001B[38;5;124m\"\u001B[39m)\u001B[38;5;241m.\u001B[39moption(\u001B[38;5;124m\"\u001B[39m\u001B[38;5;124mheader\u001B[39m\u001B[38;5;124m\"\u001B[39m,\u001B[38;5;124m\"\u001B[39m\u001B[38;5;124mtrue\u001B[39m\u001B[38;5;124m\"\u001B[39m)\u001B[38;5;241m.\u001B[39mcsv(\u001B[38;5;124m\"\u001B[39m\u001B[38;5;124mabfss://processed@indianfoodadls.dfs.core.windows.net/region_time\u001B[39m\u001B[38;5;124m\"\u001B[39m)\n",
       "\n",
       "\u001B[0;31mNameError\u001B[0m: name 'pivot_df' is not defined"
      ]
     },
     "metadata": {
      "application/vnd.databricks.v1+output": {
       "addedWidgets": {},
       "arguments": {},
       "datasetInfos": [],
       "jupyterProps": {
        "ename": "NameError",
        "evalue": "name 'pivot_df' is not defined"
       },
       "metadata": {
        "errorSummary": "<span class='ansi-red-fg'>NameError</span>: name 'pivot_df' is not defined"
       },
       "removedWidgets": [],
       "sqlProps": null,
       "stackFrames": [
        "\u001B[0;31m---------------------------------------------------------------------------\u001B[0m",
        "\u001B[0;31mNameError\u001B[0m                                 Traceback (most recent call last)",
        "File \u001B[0;32m<command-2380092116466689>, line 1\u001B[0m\n\u001B[0;32m----> 1\u001B[0m pivot_df\u001B[38;5;241m.\u001B[39mrepartition(\u001B[38;5;241m1\u001B[39m)\u001B[38;5;241m.\u001B[39mwrite\u001B[38;5;241m.\u001B[39mmode(\u001B[38;5;124m\"\u001B[39m\u001B[38;5;124moverwrite\u001B[39m\u001B[38;5;124m\"\u001B[39m)\u001B[38;5;241m.\u001B[39moption(\u001B[38;5;124m\"\u001B[39m\u001B[38;5;124mheader\u001B[39m\u001B[38;5;124m\"\u001B[39m,\u001B[38;5;124m\"\u001B[39m\u001B[38;5;124mtrue\u001B[39m\u001B[38;5;124m\"\u001B[39m)\u001B[38;5;241m.\u001B[39mcsv(\u001B[38;5;124m\"\u001B[39m\u001B[38;5;124mabfss://processed@indianfoodadls.dfs.core.windows.net/pivot_transformed\u001B[39m\u001B[38;5;124m\"\u001B[39m)\n\u001B[1;32m      2\u001B[0m result\u001B[38;5;241m.\u001B[39mrepartition(\u001B[38;5;241m1\u001B[39m)\u001B[38;5;241m.\u001B[39mwrite\u001B[38;5;241m.\u001B[39mmode(\u001B[38;5;124m\"\u001B[39m\u001B[38;5;124moverwrite\u001B[39m\u001B[38;5;124m\"\u001B[39m)\u001B[38;5;241m.\u001B[39moption(\u001B[38;5;124m\"\u001B[39m\u001B[38;5;124mheader\u001B[39m\u001B[38;5;124m\"\u001B[39m,\u001B[38;5;124m\"\u001B[39m\u001B[38;5;124mtrue\u001B[39m\u001B[38;5;124m\"\u001B[39m)\u001B[38;5;241m.\u001B[39mcsv(\u001B[38;5;124m\"\u001B[39m\u001B[38;5;124mabfss://processed@indianfoodadls.dfs.core.windows.net/result\u001B[39m\u001B[38;5;124m\"\u001B[39m)\n\u001B[1;32m      3\u001B[0m region_time_df\u001B[38;5;241m.\u001B[39mrepartition(\u001B[38;5;241m1\u001B[39m)\u001B[38;5;241m.\u001B[39mwrite\u001B[38;5;241m.\u001B[39mmode(\u001B[38;5;124m\"\u001B[39m\u001B[38;5;124moverwrite\u001B[39m\u001B[38;5;124m\"\u001B[39m)\u001B[38;5;241m.\u001B[39moption(\u001B[38;5;124m\"\u001B[39m\u001B[38;5;124mheader\u001B[39m\u001B[38;5;124m\"\u001B[39m,\u001B[38;5;124m\"\u001B[39m\u001B[38;5;124mtrue\u001B[39m\u001B[38;5;124m\"\u001B[39m)\u001B[38;5;241m.\u001B[39mcsv(\u001B[38;5;124m\"\u001B[39m\u001B[38;5;124mabfss://processed@indianfoodadls.dfs.core.windows.net/region_time\u001B[39m\u001B[38;5;124m\"\u001B[39m)\n",
        "\u001B[0;31mNameError\u001B[0m: name 'pivot_df' is not defined"
       ],
       "type": "baseError"
      }
     },
     "output_type": "display_data"
    }
   ],
   "source": [
    "pivot_df.repartition(1).write.mode(\"overwrite\").option(\"header\",\"true\").csv(\"abfss://processed@indianfoodadls.dfs.core.windows.net/pivot_transformed\")\n",
    "result.repartition(1).write.mode(\"overwrite\").option(\"header\",\"true\").csv(\"abfss://processed@indianfoodadls.dfs.core.windows.net/result\")\n",
    "region_time_df.repartition(1).write.mode(\"overwrite\").option(\"header\",\"true\").csv(\"abfss://processed@indianfoodadls.dfs.core.windows.net/region_time\")"
   ]
  }
 ],
 "metadata": {
  "application/vnd.databricks.v1+notebook": {
   "dashboards": [],
   "environmentMetadata": null,
   "language": "python",
   "notebookMetadata": {
    "pythonIndentUnit": 4
   },
   "notebookName": "indian-food-notebook",
   "widgets": {}
  }
 },
 "nbformat": 4,
 "nbformat_minor": 0
}
